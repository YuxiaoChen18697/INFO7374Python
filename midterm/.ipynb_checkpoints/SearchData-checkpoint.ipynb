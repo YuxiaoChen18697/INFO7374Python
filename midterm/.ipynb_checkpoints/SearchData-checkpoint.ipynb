{
 "cells": [
  {
   "cell_type": "markdown",
   "metadata": {},
   "source": [
    "Search Data"
   ]
  },
  {
   "cell_type": "code",
   "execution_count": 35,
   "metadata": {
    "collapsed": true
   },
   "outputs": [],
   "source": [
    "import argparse\n",
    "import requests\n",
    "import os\n",
    "import json\n",
    "import time"
   ]
  },
  {
   "cell_type": "code",
   "execution_count": 36,
   "metadata": {
    "collapsed": true
   },
   "outputs": [],
   "source": [
    "nyt_archive_key = os.getenv('nyt_archive_key')"
   ]
  },
  {
   "cell_type": "code",
   "execution_count": 37,
   "metadata": {
    "collapsed": true
   },
   "outputs": [],
   "source": [
    "dataDirection = \"Searched data\""
   ]
  },
  {
   "cell_type": "code",
   "execution_count": 39,
   "metadata": {
    "collapsed": false
   },
   "outputs": [],
   "source": [
    "if not os.path.exists(dataDirection):\n",
    "    os.mkdir(dataDirection)\n",
    "field=\"baskedball\"\n",
    "if not os.path.exists(dataDirection+'/'+field):\n",
    "    os.mkdir(dataDirection+'/'+field)\n",
    "\n",
    "if not os.path.exists(dataDirection+'/'+field+'/2000'):\n",
    "    os.mkdir(dataDirection+'/'+field+'/'+'2000')\n",
    "if not os.path.exists(dataDirection+'/'+field+'/2010'):\n",
    "    os.mkdir(dataDirection+'/'+field+'/'+'2010')\n",
    "for page in range(1,10):\n",
    "    time.sleep(2)\n",
    "    data=requests.get('http://api.nytimes.com/svc/search/v2/articlesearch.json?q=basketball&begin_date=20100101&end_date=20101231&page='+str(page)+'&api-key='+nyt_archive_key).json()\n",
    "    with open(dataDirection+'/'+field+'/2010/before.json','w') as file:\n",
    "        json.dump(data,file)\n",
    "for page in range(1,10):\n",
    "    time.sleep(2)\n",
    "    data=requests.get('http://api.nytimes.com/svc/search/v2/articlesearch.json?q=basketball&begin_date=20000101&end_date=20001231&page='+str(page)+'&api-key='+nyt_archive_key).json()\n",
    "    with open(dataDirection+'/'+field+'/2000/before.json','w') as file:\n",
    "        json.dump(data,file)"
   ]
  },
  {
   "cell_type": "code",
   "execution_count": null,
   "metadata": {
    "collapsed": true
   },
   "outputs": [],
   "source": []
  }
 ],
 "metadata": {
  "kernelspec": {
   "display_name": "Python [default]",
   "language": "python",
   "name": "python3"
  },
  "language_info": {
   "codemirror_mode": {
    "name": "ipython",
    "version": 3
   },
   "file_extension": ".py",
   "mimetype": "text/x-python",
   "name": "python",
   "nbconvert_exporter": "python",
   "pygments_lexer": "ipython3",
   "version": "3.5.2"
  }
 },
 "nbformat": 4,
 "nbformat_minor": 1
}
