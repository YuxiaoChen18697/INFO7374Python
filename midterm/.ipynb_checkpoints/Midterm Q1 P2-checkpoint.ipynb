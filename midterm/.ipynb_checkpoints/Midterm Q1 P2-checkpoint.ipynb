{
 "cells": [
  {
   "cell_type": "markdown",
   "metadata": {},
   "source": [
    "Analysis 2 : Find the most connected email of everyone and save in a csv"
   ]
  },
  {
   "cell_type": "code",
   "execution_count": 25,
   "metadata": {
    "collapsed": true
   },
   "outputs": [],
   "source": [
    "import glob\n",
    "from email.parser import Parser\n",
    "import os"
   ]
  },
  {
   "cell_type": "code",
   "execution_count": 26,
   "metadata": {
    "collapsed": true
   },
   "outputs": [],
   "source": [
    "files = glob.glob('/Users/kylechen/midterm/data/enron/maildir/*')\n",
    "closestContact={}"
   ]
  },
  {
   "cell_type": "code",
   "execution_count": 27,
   "metadata": {
    "collapsed": true
   },
   "outputs": [],
   "source": [
    "def count(files):\n",
    "    contactSet={}\n",
    "    for file in files:\n",
    "        if os.path.isdir(file):\n",
    "            pass\n",
    "        else:\n",
    "            with open(file,encoding='utf-8', errors='ignore') as f:\n",
    "                email = Parser().parsestr(f.read())\n",
    "                if email[\"From\"] not in contactSet:\n",
    "                    contactSet[email[\"From\"]]=1\n",
    "                else:\n",
    "                    contactSet[email[\"From\"]]+=1\n",
    "    return contactSet"
   ]
  },
  {
   "cell_type": "code",
   "execution_count": 39,
   "metadata": {
    "collapsed": true
   },
   "outputs": [],
   "source": [
    "def findClosest(files):\n",
    "    contactSet=count(files)\n",
    "    sentList = contactSet.items()\n",
    "    sortList=[[v[1],v[0]] for v in sentList]\n",
    "    sortList.sort()\n",
    "    sortList.reverse()\n",
    "    try:\n",
    "        return sortList[0][1]\n",
    "    except:\n",
    "        return \"No inbox!\""
   ]
  },
  {
   "cell_type": "code",
   "execution_count": 40,
   "metadata": {
    "collapsed": false
   },
   "outputs": [],
   "source": [
    "import os\n",
    "for file in files:\n",
    "    localDir = glob.glob(file+'/inbox/*')\n",
    "    closest = findClosest(localDir)\n",
    "    person = os.path.basename(file)\n",
    "    closestContact[person] = closest"
   ]
  },
  {
   "cell_type": "code",
   "execution_count": 41,
   "metadata": {
    "collapsed": true
   },
   "outputs": [],
   "source": [
    "import csv"
   ]
  },
  {
   "cell_type": "code",
   "execution_count": 45,
   "metadata": {
    "collapsed": false
   },
   "outputs": [],
   "source": [
    "with open('ClosestContact.csv','w') as f:\n",
    "    wr = csv.writer(f)\n",
    "    wr.writerow([\"Name\",\"Closest Contact\"])\n",
    "    for element in closestContact:\n",
    "        wr.writerow([element,closestContact[element]])"
   ]
  },
  {
   "cell_type": "code",
   "execution_count": null,
   "metadata": {
    "collapsed": true
   },
   "outputs": [],
   "source": []
  }
 ],
 "metadata": {
  "anaconda-cloud": {},
  "kernelspec": {
   "display_name": "Python [default]",
   "language": "python",
   "name": "python3"
  },
  "language_info": {
   "codemirror_mode": {
    "name": "ipython",
    "version": 3
   },
   "file_extension": ".py",
   "mimetype": "text/x-python",
   "name": "python",
   "nbconvert_exporter": "python",
   "pygments_lexer": "ipython3",
   "version": "3.5.2"
  }
 },
 "nbformat": 4,
 "nbformat_minor": 1
}
