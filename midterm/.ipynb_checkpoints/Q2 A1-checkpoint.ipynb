{
 "cells": [
  {
   "cell_type": "markdown",
   "metadata": {},
   "source": [
    "1. What is the most used keyword in 1992"
   ]
  },
  {
   "cell_type": "code",
   "execution_count": 36,
   "metadata": {
    "collapsed": true
   },
   "outputs": [],
   "source": [
    "import json\n",
    "from pprint import pprint"
   ]
  },
  {
   "cell_type": "code",
   "execution_count": 37,
   "metadata": {
    "collapsed": true
   },
   "outputs": [],
   "source": [
    "import glob\n",
    "files = glob.glob('newData/*')\n",
    "keywords = []"
   ]
  },
  {
   "cell_type": "code",
   "execution_count": 38,
   "metadata": {
    "collapsed": false
   },
   "outputs": [],
   "source": [
    "for file in files:\n",
    "    with open(file) as data_file:    \n",
    "        data = json.load(data_file)\n",
    "        for article in data['response']['docs']:\n",
    "            for value in article['keywords']:\n",
    "                keywords.append(value['value'])"
   ]
  },
  {
   "cell_type": "code",
   "execution_count": 41,
   "metadata": {
    "collapsed": false
   },
   "outputs": [
    {
     "name": "stdout",
     "output_type": "stream",
     "text": [
      "The most used keyword is:COMPANY EARNINGS for 10156 times\n"
     ]
    }
   ],
   "source": [
    "keywordsFreq={}\n",
    "for word in keywords:\n",
    "    if word not in keywordsFreq:\n",
    "        keywordsFreq[word]=1\n",
    "    else:\n",
    "        keywordsFreq[word]+=1\n",
    "newList = keywordsFreq.items()\n",
    "sortList=[[v[1],v[0]] for v in newList]\n",
    "sortList.sort()\n",
    "sortList.reverse()\n",
    "print('The most used keyword is:' + sortList[0][1] + ' for ' + str(sortList[0][0]) + ' times')"
   ]
  },
  {
   "cell_type": "code",
   "execution_count": null,
   "metadata": {
    "collapsed": true
   },
   "outputs": [],
   "source": []
  }
 ],
 "metadata": {
  "kernelspec": {
   "display_name": "Python [default]",
   "language": "python",
   "name": "python3"
  },
  "language_info": {
   "codemirror_mode": {
    "name": "ipython",
    "version": 3
   },
   "file_extension": ".py",
   "mimetype": "text/x-python",
   "name": "python",
   "nbconvert_exporter": "python",
   "pygments_lexer": "ipython3",
   "version": "3.5.2"
  }
 },
 "nbformat": 4,
 "nbformat_minor": 1
}
