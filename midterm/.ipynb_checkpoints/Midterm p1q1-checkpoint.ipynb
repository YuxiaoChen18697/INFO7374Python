{
 "cells": [
  {
   "cell_type": "markdown",
   "metadata": {},
   "source": [
    "Analysis 1: Who sent the most email"
   ]
  },
  {
   "cell_type": "code",
   "execution_count": 95,
   "metadata": {
    "collapsed": true
   },
   "outputs": [],
   "source": [
    "import glob\n",
    "from email.parser import Parser"
   ]
  },
  {
   "cell_type": "code",
   "execution_count": 96,
   "metadata": {
    "collapsed": false
   },
   "outputs": [],
   "source": [
    "files = glob.glob('/Users/kylechen/midterm/data/enron/maildir/*')\n",
    "emailSent={}"
   ]
  },
  {
   "cell_type": "code",
   "execution_count": 98,
   "metadata": {
    "collapsed": false
   },
   "outputs": [],
   "source": [
    "for file in files:\n",
    "    emailSent[file] = 0\n",
    "    localDir = glob.glob(file+'/sent/*')\n",
    "    for email in localDir:\n",
    "        emailSent[file]+=1"
   ]
  },
  {
   "cell_type": "code",
   "execution_count": 102,
   "metadata": {
    "collapsed": false
   },
   "outputs": [
    {
     "name": "stdout",
     "output_type": "stream",
     "text": [
      "The one who sent the most emails is:mann-k\n"
     ]
    }
   ],
   "source": [
    "sentList = emailSent.items()\n",
    "sortList=[[v[1],v[0]] for v in sentList]\n",
    "sortList.sort()\n",
    "sortList.reverse()\n",
    "print('The one who sent the most emails is:' + os.path.basename(sortList[0][1]))"
   ]
  },
  {
   "cell_type": "code",
   "execution_count": 57,
   "metadata": {
    "collapsed": false
   },
   "outputs": [
    {
     "name": "stdout",
     "output_type": "stream",
     "text": [
      "k..allen@enron.com\n"
     ]
    }
   ],
   "source": [
    "with open('/Users/kylechen/midterm/data/enron/maildir/allen-p/inbox/5.') as file:\n",
    "    \n",
    "    email = Parser().parsestr(file.read())\n",
    "    print(email['To'])"
   ]
  }
 ],
 "metadata": {
  "anaconda-cloud": {},
  "kernelspec": {
   "display_name": "Python [default]",
   "language": "python",
   "name": "python3"
  },
  "language_info": {
   "codemirror_mode": {
    "name": "ipython",
    "version": 3
   },
   "file_extension": ".py",
   "mimetype": "text/x-python",
   "name": "python",
   "nbconvert_exporter": "python",
   "pygments_lexer": "ipython3",
   "version": "3.5.2"
  }
 },
 "nbformat": 4,
 "nbformat_minor": 1
}
