{
 "cells": [
  {
   "cell_type": "markdown",
   "metadata": {},
   "source": [
    "Q2 Analysis 2:Find the words that not using after 10 years in technology field in lead paragraph"
   ]
  },
  {
   "cell_type": "code",
   "execution_count": 2,
   "metadata": {
    "collapsed": false
   },
   "outputs": [],
   "source": [
    "import glob\n",
    "filesBefore = glob.glob('../data/SearchedData/Technology/2000/*')\n",
    "filesAfter = glob.glob('../data/SearchedData/Technology/2010/*')"
   ]
  },
  {
   "cell_type": "code",
   "execution_count": 155,
   "metadata": {
    "collapsed": false
   },
   "outputs": [],
   "source": [
    "import json\n",
    "import string\n",
    "def getWords(files):\n",
    "    wordList=[]\n",
    "    for file in files:\n",
    "        with open(file) as f:\n",
    "            data = json.load(f)\n",
    "            for article in data['response']['docs']: # Find the articles\n",
    "                try:\n",
    "                    for word in article['lead_paragraph'].split():\n",
    "                        newWord = word.strip(string.punctuation) # Remove punctuations\n",
    "                        if not newWord.isdigit(): # Check if it is digit\n",
    "                            wordList.append(newWord.lower())\n",
    "                except:\n",
    "                    pass\n",
    "    return wordList"
   ]
  },
  {
   "cell_type": "code",
   "execution_count": 156,
   "metadata": {
    "collapsed": false
   },
   "outputs": [],
   "source": [
    "# Get all words\n",
    "wordsIn2000 = getWords(filesBefore) \n",
    "wordsIn2010 = getWords(filesAfter)"
   ]
  },
  {
   "cell_type": "code",
   "execution_count": 157,
   "metadata": {
    "collapsed": true
   },
   "outputs": [],
   "source": [
    "def count(wordlist):\n",
    "    wordSet={}\n",
    "    for word in wordlist:\n",
    "        if word not in wordSet:\n",
    "            wordSet[word] = 1\n",
    "        else:\n",
    "            wordSet[word] += 1\n",
    "    return wordSet"
   ]
  },
  {
   "cell_type": "code",
   "execution_count": 158,
   "metadata": {
    "collapsed": false
   },
   "outputs": [],
   "source": [
    "# Count frequency\n",
    "wordsIn2000Freq = count(wordsIn2000)\n",
    "wordsIn2010Freq = count(wordsIn2010)"
   ]
  },
  {
   "cell_type": "code",
   "execution_count": 163,
   "metadata": {
    "collapsed": true
   },
   "outputs": [],
   "source": [
    "def populerWords(files):\n",
    "    sentList = files.items()\n",
    "    sortList=[[v[1],v[0]] for v in sentList]\n",
    "    sortList.sort()\n",
    "    sortList.reverse()\n",
    "    return sortList"
   ]
  },
  {
   "cell_type": "code",
   "execution_count": 164,
   "metadata": {
    "collapsed": false
   },
   "outputs": [],
   "source": [
    "list2000 = populerWords(wordsIn2000Freq)\n",
    "list2000.sort()\n",
    "list2000.reverse()\n",
    "list2010 = populerWords(wordsIn2010Freq)\n",
    "list2010.sort()\n",
    "list2010.reverse()"
   ]
  },
  {
   "cell_type": "code",
   "execution_count": 167,
   "metadata": {
    "collapsed": false
   },
   "outputs": [
    {
     "name": "stdout",
     "output_type": "stream",
     "text": [
      "The top 20 words in 2000 is: [[498, 'the'], [248, 'of'], [229, 'a'], [192, 'to'], [162, 'in'], [151, 'and'], [119, 'that'], [91, 'for'], [74, 'its'], [59, 'is'], [57, 'internet'], [55, 'it'], [53, 'company'], [51, 'as'], [44, 'on'], [43, 'by'], [39, 'from'], [38, 'said'], [35, 'was'], [33, 'or']]\n",
      "The top 20 words in 2010 is: [[168, 'the'], [98, 'a'], [83, 'of'], [73, 'to'], [57, 'in'], [57, 'and'], [32, 'for'], [31, 'that'], [27, 'it'], [26, 'technology'], [26, 'on'], [22, 'is'], [22, 'has'], [22, 'as'], [21, 'at'], [20, 'said'], [18, 'with'], [18, 'be'], [17, 'new'], [16, 'its']]\n"
     ]
    }
   ],
   "source": [
    "print('The top 20 words in 2000 is: '+str(list2000[0:20]))\n",
    "print('The top 20 words in 2010 is: '+str(list2010[0:20]))"
   ]
  },
  {
   "cell_type": "code",
   "execution_count": null,
   "metadata": {
    "collapsed": true
   },
   "outputs": [],
   "source": []
  },
  {
   "cell_type": "code",
   "execution_count": null,
   "metadata": {
    "collapsed": true
   },
   "outputs": [],
   "source": []
  }
 ],
 "metadata": {
  "anaconda-cloud": {},
  "kernelspec": {
   "display_name": "Python [default]",
   "language": "python",
   "name": "python3"
  },
  "language_info": {
   "codemirror_mode": {
    "name": "ipython",
    "version": 3
   },
   "file_extension": ".py",
   "mimetype": "text/x-python",
   "name": "python",
   "nbconvert_exporter": "python",
   "pygments_lexer": "ipython3",
   "version": "3.5.2"
  }
 },
 "nbformat": 4,
 "nbformat_minor": 1
}
