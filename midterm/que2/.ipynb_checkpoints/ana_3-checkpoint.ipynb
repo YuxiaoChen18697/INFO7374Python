{
 "cells": [
  {
   "cell_type": "markdown",
   "metadata": {},
   "source": [
    "Analysis 3: Find the amount of articles of every reporters"
   ]
  },
  {
   "cell_type": "code",
   "execution_count": 29,
   "metadata": {
    "collapsed": true
   },
   "outputs": [],
   "source": [
    "import json\n",
    "from pprint import pprint"
   ]
  },
  {
   "cell_type": "code",
   "execution_count": 42,
   "metadata": {
    "collapsed": true
   },
   "outputs": [],
   "source": [
    "import glob\n",
    "files = glob.glob('../data/newData/*')\n",
    "reporters={}"
   ]
  },
  {
   "cell_type": "code",
   "execution_count": 43,
   "metadata": {
    "collapsed": false
   },
   "outputs": [],
   "source": [
    "for file in files:\n",
    "    with open(file) as data_file:    \n",
    "        data = json.load(data_file)\n",
    "        for article in data['response']['docs']:\n",
    "            reporter={}\n",
    "            try:\n",
    "                for value in article['byline']['person']:\n",
    "                    name=value['firstname'].upper()+' '+value['lastname'].upper() # Get every reporter's name\n",
    "                    if name not in reporters:\n",
    "                        reporters[name]=1\n",
    "                    else:\n",
    "                        reporters[name]+=1\n",
    "            except:\n",
    "                pass"
   ]
  },
  {
   "cell_type": "code",
   "execution_count": 47,
   "metadata": {
    "collapsed": true
   },
   "outputs": [],
   "source": [
    "newList = reporters.items()\n",
    "sortList=[[v[1],v[0]] for v in newList]\n",
    "sortList.sort()\n",
    "sortList.reverse()"
   ]
  },
  {
   "cell_type": "code",
   "execution_count": 48,
   "metadata": {
    "collapsed": false
   },
   "outputs": [],
   "source": [
    "import csv"
   ]
  },
  {
   "cell_type": "code",
   "execution_count": 49,
   "metadata": {
    "collapsed": true
   },
   "outputs": [],
   "source": [
    "with open('ReportersAndArticlesNumber.csv','w') as f:\n",
    "    wr = csv.writer(f)\n",
    "    wr.writerow([\"Name\",\"Article number\"])\n",
    "    for element in sortList:\n",
    "        wr.writerow([element[1],element[0]])"
   ]
  },
  {
   "cell_type": "code",
   "execution_count": null,
   "metadata": {
    "collapsed": true
   },
   "outputs": [],
   "source": []
  }
 ],
 "metadata": {
  "anaconda-cloud": {},
  "kernelspec": {
   "display_name": "Python [default]",
   "language": "python",
   "name": "python3"
  },
  "language_info": {
   "codemirror_mode": {
    "name": "ipython",
    "version": 3
   },
   "file_extension": ".py",
   "mimetype": "text/x-python",
   "name": "python",
   "nbconvert_exporter": "python",
   "pygments_lexer": "ipython3",
   "version": "3.5.2"
  }
 },
 "nbformat": 4,
 "nbformat_minor": 1
}
