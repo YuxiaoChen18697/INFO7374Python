{
 "cells": [
  {
   "cell_type": "markdown",
   "metadata": {},
   "source": [
    "Analysis 2 : Find the most connected email of everyone and save in a csv"
   ]
  },
  {
   "cell_type": "code",
   "execution_count": 1,
   "metadata": {
    "collapsed": true
   },
   "outputs": [],
   "source": [
    "import glob\n",
    "from email.parser import Parser\n",
    "import os"
   ]
  },
  {
   "cell_type": "code",
   "execution_count": 2,
   "metadata": {
    "collapsed": true
   },
   "outputs": [],
   "source": [
    "files = glob.glob('data/enron/maildir/*')\n",
    "closestContact={}"
   ]
  },
  {
   "cell_type": "code",
   "execution_count": 3,
   "metadata": {
    "collapsed": true
   },
   "outputs": [],
   "source": [
    "def count(files):\n",
    "    contactSet={}\n",
    "    for file in files:\n",
    "        if os.path.isdir(file): # In case that some inbox has some useless folder\n",
    "            pass\n",
    "        else:\n",
    "            with open(file,encoding='utf-8', errors='ignore') as f:\n",
    "                email = Parser().parsestr(f.read()) # Parse the email\n",
    "                if email[\"From\"] not in contactSet: # Count the email address that sent from\n",
    "                    contactSet[email[\"From\"]]=1\n",
    "                else:\n",
    "                    contactSet[email[\"From\"]]+=1\n",
    "    return contactSet"
   ]
  },
  {
   "cell_type": "code",
   "execution_count": 4,
   "metadata": {
    "collapsed": true
   },
   "outputs": [],
   "source": [
    "def findClosest(files): # Sort the email list\n",
    "    contactSet=count(files)\n",
    "    sentList = contactSet.items()\n",
    "    sortList=[[v[1],v[0]] for v in sentList]\n",
    "    sortList.sort()\n",
    "    sortList.reverse()\n",
    "    try:\n",
    "        return sortList[0][1] # Return the most connected person\n",
    "    except:\n",
    "        return \"No inbox!\""
   ]
  },
  {
   "cell_type": "code",
   "execution_count": 5,
   "metadata": {
    "collapsed": false
   },
   "outputs": [],
   "source": [
    "import os\n",
    "for file in files:\n",
    "    localDir = glob.glob(file+'/inbox/*')\n",
    "    closest = findClosest(localDir) # Find closest person\n",
    "    person = os.path.basename(file) # Get the person name\n",
    "    closestContact[person] = closest "
   ]
  },
  {
   "cell_type": "code",
   "execution_count": 6,
   "metadata": {
    "collapsed": true
   },
   "outputs": [],
   "source": [
    "import csv"
   ]
  },
  {
   "cell_type": "code",
   "execution_count": 7,
   "metadata": {
    "collapsed": false
   },
   "outputs": [],
   "source": [
    "with open('ClosestContact.csv','w') as f: # Write the sorted list to scv\n",
    "    wr = csv.writer(f)\n",
    "    wr.writerow([\"Name\",\"Closest Contact\"])\n",
    "    for element in closestContact:\n",
    "        wr.writerow([element,closestContact[element]])"
   ]
  },
  {
   "cell_type": "code",
   "execution_count": null,
   "metadata": {
    "collapsed": true
   },
   "outputs": [],
   "source": []
  }
 ],
 "metadata": {
  "anaconda-cloud": {},
  "kernelspec": {
   "display_name": "Python [default]",
   "language": "python",
   "name": "python3"
  },
  "language_info": {
   "codemirror_mode": {
    "name": "ipython",
    "version": 3
   },
   "file_extension": ".py",
   "mimetype": "text/x-python",
   "name": "python",
   "nbconvert_exporter": "python",
   "pygments_lexer": "ipython3",
   "version": "3.5.2"
  }
 },
 "nbformat": 4,
 "nbformat_minor": 1
}
