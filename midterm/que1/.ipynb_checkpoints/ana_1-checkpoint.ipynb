{
 "cells": [
  {
   "cell_type": "markdown",
   "metadata": {},
   "source": [
    "Analysis 1: Who sent the most email"
   ]
  },
  {
   "cell_type": "code",
   "execution_count": 4,
   "metadata": {
    "collapsed": true
   },
   "outputs": [],
   "source": [
    "import glob\n",
    "import os\n",
    "from email.parser import Parser"
   ]
  },
  {
   "cell_type": "code",
   "execution_count": 5,
   "metadata": {
    "collapsed": false
   },
   "outputs": [],
   "source": [
    "files = glob.glob('data/enron/maildir/*') # Get all files in dataset\n",
    "emailSent={}"
   ]
  },
  {
   "cell_type": "code",
   "execution_count": 6,
   "metadata": {
    "collapsed": false
   },
   "outputs": [],
   "source": [
    "for file in files:\n",
    "    emailSent[file] = 0 # Initialize the count\n",
    "    localDir = glob.glob(file+'/sent/*') # Get the sent box\n",
    "    for email in localDir:\n",
    "        emailSent[file]+=1"
   ]
  },
  {
   "cell_type": "code",
   "execution_count": 7,
   "metadata": {
    "collapsed": false
   },
   "outputs": [
    {
     "name": "stdout",
     "output_type": "stream",
     "text": [
      "The one who sent the most emails is:mann-k\n"
     ]
    }
   ],
   "source": [
    "sentList = emailSent.items()\n",
    "sortList=[[v[1],v[0]] for v in sentList]\n",
    "sortList.sort()\n",
    "sortList.reverse()\n",
    "print('The one who sent the most emails is:' + os.path.basename(sortList[0][1])) # Find the person who sent the most emails"
   ]
  },
  {
   "cell_type": "code",
   "execution_count": null,
   "metadata": {
    "collapsed": true
   },
   "outputs": [],
   "source": []
  }
 ],
 "metadata": {
  "anaconda-cloud": {},
  "kernelspec": {
   "display_name": "Python [default]",
   "language": "python",
   "name": "python3"
  },
  "language_info": {
   "codemirror_mode": {
    "name": "ipython",
    "version": 3
   },
   "file_extension": ".py",
   "mimetype": "text/x-python",
   "name": "python",
   "nbconvert_exporter": "python",
   "pygments_lexer": "ipython3",
   "version": "3.5.2"
  }
 },
 "nbformat": 4,
 "nbformat_minor": 1
}
