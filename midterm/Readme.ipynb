{
 "cells": [
  {
   "cell_type": "markdown",
   "metadata": {},
   "source": [
    "Question 1:\n",
    "\n",
    "    Analysis 1:\n",
    "        \n",
    "        Who sent the most email?\n",
    "        \n",
    "        Output: The one who sent the most emails is:mann-k\n",
    "        \n",
    "    Analysis 2:\n",
    "        \n",
    "        Find the most connected email of everyone and save in a csv\n",
    "        \n",
    "        Output: ClosestContact.csv\n",
    "    \n",
    "    Analysis 3:\n",
    "    \n",
    "        Find some unusual words like specific word\n",
    "        \n",
    "        Output:\n",
    "        \n",
    "Question 2:\n",
    "\n",
    "    Analysis 1:\n",
    "        \n",
    "        What is the most used keyword in 1992?\n",
    "        \n",
    "        Output: The most used keyword is:COMPANY EARNINGS for 10156 times\n",
    "        \n",
    "    Analysis 2:\n",
    "        \n",
    "        Find the words that not using after 10 years in technology field in lead paragraph\n",
    "        \n",
    "        Output: The top 20 words in 2000 is: [[498, 'the'], [248, 'of'], [229, 'a'], [192, 'to'], [162, 'in'], [151,  'and'], [119, 'that'], [91, 'for'], [74, 'its'], [59, 'is'], [57, 'internet'], [55, 'it'], [53, 'company'], [51, 'as'], [44, 'on'], [43, 'by'], [39, 'from'], [38, 'said'], [35, 'was'], [33, 'or']]\n",
    "The top 20 words in 2010 is: [[168, 'the'], [98, 'a'], [83, 'of'], [73, 'to'], [57, 'in'], [57, 'and'], [32, 'for'], [31, 'that'], [27, 'it'], [26, 'technology'], [26, 'on'], [22, 'is'], [22, 'has'], [22, 'as'], [21, 'at'], [20, 'said'], [18, 'with'], [18, 'be'], [17, 'new'], [16, 'its']]\n",
    "    \n",
    "    Analysis 3:\n",
    "    \n",
    "        Find the amount of articles of every reporters\n",
    "        \n",
    "        Output:ReportsAndArticleNumber.csv\n",
    "        "
   ]
  }
 ],
 "metadata": {
  "anaconda-cloud": {},
  "kernelspec": {
   "display_name": "Python [default]",
   "language": "python",
   "name": "python3"
  },
  "language_info": {
   "codemirror_mode": {
    "name": "ipython",
    "version": 3
   },
   "file_extension": ".py",
   "mimetype": "text/x-python",
   "name": "python",
   "nbconvert_exporter": "python",
   "pygments_lexer": "ipython3",
   "version": "3.5.2"
  }
 },
 "nbformat": 4,
 "nbformat_minor": 1
}
