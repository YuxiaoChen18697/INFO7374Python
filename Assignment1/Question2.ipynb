{
 "cells": [
  {
   "cell_type": "markdown",
   "metadata": {},
   "source": [
    "Question2\n",
    "Under package Gutenberg get content from file 'melville-moby_dick.txt.' (HINT: Words? Raw?)\n",
    "Find out frequency of 26 characters. (Turn uppercase into lowercase and count as one character)\n",
    "List all 26 characters in order base on their frequency. (From most frequent to least frequent)\n",
    "Try NOT to use FreqDist module."
   ]
  },
  {
   "cell_type": "code",
   "execution_count": 1,
   "metadata": {
    "collapsed": true
   },
   "outputs": [],
   "source": [
    "import nltk"
   ]
  },
  {
   "cell_type": "code",
   "execution_count": 3,
   "metadata": {
    "collapsed": false
   },
   "outputs": [
    {
     "data": {
      "text/plain": [
       "['austen-emma.txt',\n",
       " 'austen-persuasion.txt',\n",
       " 'austen-sense.txt',\n",
       " 'bible-kjv.txt',\n",
       " 'blake-poems.txt',\n",
       " 'bryant-stories.txt',\n",
       " 'burgess-busterbrown.txt',\n",
       " 'carroll-alice.txt',\n",
       " 'chesterton-ball.txt',\n",
       " 'chesterton-brown.txt',\n",
       " 'chesterton-thursday.txt',\n",
       " 'edgeworth-parents.txt',\n",
       " 'melville-moby_dick.txt',\n",
       " 'milton-paradise.txt',\n",
       " 'shakespeare-caesar.txt',\n",
       " 'shakespeare-hamlet.txt',\n",
       " 'shakespeare-macbeth.txt',\n",
       " 'whitman-leaves.txt']"
      ]
     },
     "execution_count": 3,
     "metadata": {},
     "output_type": "execute_result"
    }
   ],
   "source": [
    "nltk.corpus.gutenberg.fileids()"
   ]
  },
  {
   "cell_type": "code",
   "execution_count": 6,
   "metadata": {
    "collapsed": false
   },
   "outputs": [],
   "source": [
    "mel=nltk.corpus.gutenberg.raw('melville-moby_dick.txt')"
   ]
  },
  {
   "cell_type": "code",
   "execution_count": 22,
   "metadata": {
    "collapsed": true
   },
   "outputs": [],
   "source": [
    "from string import ascii_lowercase"
   ]
  },
  {
   "cell_type": "code",
   "execution_count": 30,
   "metadata": {
    "collapsed": false
   },
   "outputs": [
    {
     "data": {
      "text/plain": [
       "{'a',\n",
       " 'b',\n",
       " 'c',\n",
       " 'd',\n",
       " 'e',\n",
       " 'f',\n",
       " 'g',\n",
       " 'h',\n",
       " 'i',\n",
       " 'j',\n",
       " 'k',\n",
       " 'l',\n",
       " 'm',\n",
       " 'n',\n",
       " 'o',\n",
       " 'p',\n",
       " 'q',\n",
       " 'r',\n",
       " 's',\n",
       " 't',\n",
       " 'u',\n",
       " 'v',\n",
       " 'w',\n",
       " 'x',\n",
       " 'y',\n",
       " 'z'}"
      ]
     },
     "execution_count": 30,
     "metadata": {},
     "output_type": "execute_result"
    }
   ],
   "source": [
    "# list = set(x for x in inaugural.words('2009-Obama.txt') if x.startswith('a'))\n",
    "ch=set(x for x in mel if x in ascii_lowercase)"
   ]
  },
  {
   "cell_type": "code",
   "execution_count": 36,
   "metadata": {
    "collapsed": false
   },
   "outputs": [
    {
     "data": {
      "text/plain": [
       "{'a': 77916,\n",
       " 'b': 16877,\n",
       " 'c': 22507,\n",
       " 'd': 38219,\n",
       " 'e': 117092,\n",
       " 'f': 20833,\n",
       " 'g': 20820,\n",
       " 'h': 62896,\n",
       " 'i': 65434,\n",
       " 'j': 1082,\n",
       " 'k': 8059,\n",
       " 'l': 42793,\n",
       " 'm': 23277,\n",
       " 'n': 65617,\n",
       " 'o': 69326,\n",
       " 'p': 17255,\n",
       " 'q': 1556,\n",
       " 'r': 52134,\n",
       " 's': 64231,\n",
       " 't': 87996,\n",
       " 'u': 26697,\n",
       " 'v': 8598,\n",
       " 'w': 22222,\n",
       " 'x': 1030,\n",
       " 'y': 16872,\n",
       " 'z': 632}"
      ]
     },
     "execution_count": 36,
     "metadata": {},
     "output_type": "execute_result"
    }
   ],
   "source": [
    "dic={}\n",
    "for x in ch:\n",
    "    dic[x]=0\n",
    "mello=(c.lower() for c in mel)\n",
    "for cc in mello:\n",
    "    if cc in ch:\n",
    "        dic[cc]=dic[cc]+1\n",
    "dic"
   ]
  },
  {
   "cell_type": "code",
   "execution_count": 43,
   "metadata": {
    "collapsed": false
   },
   "outputs": [
    {
     "data": {
      "text/plain": [
       "[[117092, 'e'],\n",
       " [87996, 't'],\n",
       " [77916, 'a'],\n",
       " [69326, 'o'],\n",
       " [65617, 'n'],\n",
       " [65434, 'i'],\n",
       " [64231, 's'],\n",
       " [62896, 'h'],\n",
       " [52134, 'r'],\n",
       " [42793, 'l'],\n",
       " [38219, 'd'],\n",
       " [26697, 'u'],\n",
       " [23277, 'm'],\n",
       " [22507, 'c'],\n",
       " [22222, 'w'],\n",
       " [20833, 'f'],\n",
       " [20820, 'g'],\n",
       " [17255, 'p'],\n",
       " [16877, 'b'],\n",
       " [16872, 'y'],\n",
       " [8598, 'v'],\n",
       " [8059, 'k'],\n",
       " [1556, 'q'],\n",
       " [1082, 'j'],\n",
       " [1030, 'x'],\n",
       " [632, 'z']]"
      ]
     },
     "execution_count": 43,
     "metadata": {},
     "output_type": "execute_result"
    }
   ],
   "source": [
    "diclist=dic.items()\n",
    "sortList=[[v[1],v[0]] for v in diclist]\n",
    "sortList.sort()\n",
    "sortList.reverse()\n",
    "sortList"
   ]
  },
  {
   "cell_type": "code",
   "execution_count": null,
   "metadata": {
    "collapsed": true
   },
   "outputs": [],
   "source": []
  }
 ],
 "metadata": {
  "kernelspec": {
   "display_name": "Python [default]",
   "language": "python",
   "name": "python3"
  },
  "language_info": {
   "codemirror_mode": {
    "name": "ipython",
    "version": 3
   },
   "file_extension": ".py",
   "mimetype": "text/x-python",
   "name": "python",
   "nbconvert_exporter": "python",
   "pygments_lexer": "ipython3",
   "version": "3.5.2"
  }
 },
 "nbformat": 4,
 "nbformat_minor": 1
}
