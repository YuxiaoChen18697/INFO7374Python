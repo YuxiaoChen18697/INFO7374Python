{
 "cells": [
  {
   "cell_type": "markdown",
   "metadata": {},
   "source": [
    "Question5\n",
    "Use Gutenberg and Web_text data. Find out what are the top 5 words that Shakespeare used but we do not use in currently.\n",
    "Take top 50 words from Shakespeare (all 3 books) and top 50 from Web_text (all the records).\n",
    "Remove punctuation and stop words.\n",
    "Remove the words we still use today, and get the unused list. Show the top 5 elements. \n"
   ]
  },
  {
   "cell_type": "code",
   "execution_count": 1,
   "metadata": {
    "collapsed": true
   },
   "outputs": [],
   "source": [
    "import nltk"
   ]
  },
  {
   "cell_type": "code",
   "execution_count": 4,
   "metadata": {
    "collapsed": false
   },
   "outputs": [
    {
     "data": {
      "text/plain": [
       "['austen-emma.txt',\n",
       " 'austen-persuasion.txt',\n",
       " 'austen-sense.txt',\n",
       " 'bible-kjv.txt',\n",
       " 'blake-poems.txt',\n",
       " 'bryant-stories.txt',\n",
       " 'burgess-busterbrown.txt',\n",
       " 'carroll-alice.txt',\n",
       " 'chesterton-ball.txt',\n",
       " 'chesterton-brown.txt',\n",
       " 'chesterton-thursday.txt',\n",
       " 'edgeworth-parents.txt',\n",
       " 'melville-moby_dick.txt',\n",
       " 'milton-paradise.txt',\n",
       " 'shakespeare-caesar.txt',\n",
       " 'shakespeare-hamlet.txt',\n",
       " 'shakespeare-macbeth.txt',\n",
       " 'whitman-leaves.txt']"
      ]
     },
     "execution_count": 4,
     "metadata": {},
     "output_type": "execute_result"
    }
   ],
   "source": [
    "files=nltk.corpus.gutenberg.fileids()\n",
    "files"
   ]
  },
  {
   "cell_type": "code",
   "execution_count": 20,
   "metadata": {
    "collapsed": false
   },
   "outputs": [
    {
     "name": "stdout",
     "output_type": "stream",
     "text": [
      "['firefox.txt', 'grail.txt', 'overheard.txt', 'pirates.txt', 'singles.txt', 'wine.txt']\n"
     ]
    }
   ],
   "source": [
    "filesW=nltk.corpus.webtext.fileids()"
   ]
  },
  {
   "cell_type": "code",
   "execution_count": 34,
   "metadata": {
    "collapsed": false
   },
   "outputs": [],
   "source": [
    "ww=[]#webtext words\n",
    "wwset=[]#webtext words set\n",
    "wwf={}#webtext word frequency\n",
    "for s in filesW:\n",
    "    content=nltk.corpus.webtext.words(s)\n",
    "    for word in content:\n",
    "        word=word.lower()\n",
    "        if word not in exclude:\n",
    "            ww.append(word)\n",
    "        \n",
    "wwset=set(ww)\n",
    "for word in wwset:\n",
    "    wwf[word]=0\n",
    "for word in ww:\n",
    "    wwf[word]+=1"
   ]
  },
  {
   "cell_type": "code",
   "execution_count": 35,
   "metadata": {
    "collapsed": false
   },
   "outputs": [],
   "source": [
    "sw=[]#shakespeare words\n",
    "swset=[]#shakespeare words set\n",
    "swf={}#shakespeare word frequency\n",
    "import string\n",
    "exclude = set(string.punctuation)\n",
    "for s in files:\n",
    "    if 'shakespeare' in s:\n",
    "        content=nltk.corpus.gutenberg.words(s)\n",
    "        for word in content:\n",
    "            word=word.lower()\n",
    "            if word not in exclude:\n",
    "                sw.append(word)\n",
    "swset=set(sw)\n",
    "for word in swset:\n",
    "    if word not in wwset:\n",
    "        swf[word]=0\n",
    "for word in sw:\n",
    "    if word not in wwset:\n",
    "        swf[word]+=1"
   ]
  },
  {
   "cell_type": "code",
   "execution_count": 36,
   "metadata": {
    "collapsed": false
   },
   "outputs": [
    {
     "data": {
      "text/plain": [
       "[[448, 'haue'], [162, 'vpon'], [162, 'brutus'], [153, 'bru'], [144, 'hath']]"
      ]
     },
     "execution_count": 36,
     "metadata": {},
     "output_type": "execute_result"
    }
   ],
   "source": [
    "swfList=swf.items()\n",
    "sortList=[[v[1],v[0]] for v in swfList]\n",
    "sortList.sort()\n",
    "sortList.reverse()\n",
    "sortList[0:5]"
   ]
  },
  {
   "cell_type": "code",
   "execution_count": 37,
   "metadata": {
    "collapsed": false
   },
   "outputs": [
    {
     "data": {
      "text/plain": [
       "[[7925, 'i'],\n",
       " [7909, 'the'],\n",
       " [6325, 'to'],\n",
       " [6199, 'a'],\n",
       " [5812, 'you'],\n",
       " [4516, 'and'],\n",
       " [4293, 'in'],\n",
       " [3547, 't'],\n",
       " [3385, 'it'],\n",
       " [3320, 's'],\n",
       " [3281, 'on'],\n",
       " [3186, 'of'],\n",
       " [3024, 'is'],\n",
       " [2956, 'girl'],\n",
       " [2792, 'that'],\n",
       " [2751, 'guy'],\n",
       " [2665, 'not'],\n",
       " [2261, '1'],\n",
       " [1943, 'with'],\n",
       " [1908, 'for'],\n",
       " [1833, 'when'],\n",
       " [1709, '2'],\n",
       " [1696, 'like'],\n",
       " [1558, 'my'],\n",
       " [1542, '...'],\n",
       " [1539, 'no'],\n",
       " [1491, 'this'],\n",
       " [1447, 'but'],\n",
       " [1410, 'have'],\n",
       " [1381, 'so'],\n",
       " [1362, 'what'],\n",
       " [1331, 'me'],\n",
       " [1318, 'be'],\n",
       " [1241, 'don'],\n",
       " [1228, 'are'],\n",
       " [1221, 'was'],\n",
       " [1219, 'he'],\n",
       " [1204, 'can'],\n",
       " [1179, 'm'],\n",
       " [1112, 'if'],\n",
       " [1075, 'man'],\n",
       " [1034, 'do'],\n",
       " [1033, 'just'],\n",
       " [1026, 'from'],\n",
       " [1025, 'know'],\n",
       " [1006, 'all'],\n",
       " [998, 'woman'],\n",
       " [984, 'your'],\n",
       " [971, 'up'],\n",
       " [966, 'at']]"
      ]
     },
     "execution_count": 37,
     "metadata": {},
     "output_type": "execute_result"
    }
   ],
   "source": [
    "wwfList=wwf.items()\n",
    "sortList=[[v[1],v[0]] for v in wwfList]\n",
    "sortList.sort()\n",
    "sortList.reverse()\n",
    "sortList[0:50]"
   ]
  },
  {
   "cell_type": "code",
   "execution_count": 38,
   "metadata": {
    "collapsed": false
   },
   "outputs": [
    {
     "data": {
      "text/plain": [
       "[[2222, 'the'],\n",
       " [2036, 'and'],\n",
       " [1515, 'to'],\n",
       " [1455, 'i'],\n",
       " [1302, 'of'],\n",
       " [1124, 'you'],\n",
       " [1019, 'a'],\n",
       " [914, 'my'],\n",
       " [904, 'that'],\n",
       " [826, 'in'],\n",
       " [778, 'it'],\n",
       " [769, 'is'],\n",
       " [722, 'not'],\n",
       " [662, 'd'],\n",
       " [588, 'his'],\n",
       " [557, 'with'],\n",
       " [546, 'this'],\n",
       " [533, 'for'],\n",
       " [529, 'me'],\n",
       " [528, 'your'],\n",
       " [510, 'but'],\n",
       " [491, 'he'],\n",
       " [476, 'be'],\n",
       " [458, 'what'],\n",
       " [448, 'haue'],\n",
       " [434, 'him'],\n",
       " [427, 'as'],\n",
       " [424, 'so'],\n",
       " [384, 'will'],\n",
       " [346, 'our'],\n",
       " [337, 'ham'],\n",
       " [321, 'all'],\n",
       " [312, 'thou'],\n",
       " [306, 'we'],\n",
       " [305, 'are'],\n",
       " [303, 's'],\n",
       " [300, 'shall'],\n",
       " [297, 'no'],\n",
       " [293, 'lord'],\n",
       " [287, 'do'],\n",
       " [278, 'then'],\n",
       " [276, 'on'],\n",
       " [256, 'by'],\n",
       " [243, 'if'],\n",
       " [232, 'come'],\n",
       " [231, 'king'],\n",
       " [230, 'enter'],\n",
       " [225, 'they'],\n",
       " [218, 'good'],\n",
       " [217, 'let']]"
      ]
     },
     "execution_count": 38,
     "metadata": {},
     "output_type": "execute_result"
    }
   ],
   "source": [
    "for word in swset:\n",
    "    swf[word]=0\n",
    "for word in sw:\n",
    "    swf[word]+=1\n",
    "swfList=swf.items()\n",
    "sortList=[[v[1],v[0]] for v in swfList]\n",
    "sortList.sort()\n",
    "sortList.reverse()\n",
    "sortList[0:50]"
   ]
  },
  {
   "cell_type": "code",
   "execution_count": null,
   "metadata": {
    "collapsed": true
   },
   "outputs": [],
   "source": []
  }
 ],
 "metadata": {
  "anaconda-cloud": {},
  "kernelspec": {
   "display_name": "Python [default]",
   "language": "python",
   "name": "python3"
  },
  "language_info": {
   "codemirror_mode": {
    "name": "ipython",
    "version": 3
   },
   "file_extension": ".py",
   "mimetype": "text/x-python",
   "name": "python",
   "nbconvert_exporter": "python",
   "pygments_lexer": "ipython3",
   "version": "3.5.2"
  }
 },
 "nbformat": 4,
 "nbformat_minor": 1
}
