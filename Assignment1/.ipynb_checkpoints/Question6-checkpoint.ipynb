{
 "cells": [
  {
   "cell_type": "markdown",
   "metadata": {},
   "source": [
    "Question6\n",
    "Under Inaugural Address package\n",
    "For every president, find out how many unique words they used in speech. \n",
    "We will just assume that President Bush means one person (technically it is incorrect but we will ignore it)\n"
   ]
  },
  {
   "cell_type": "code",
   "execution_count": 30,
   "metadata": {
    "collapsed": false
   },
   "outputs": [
    {
     "data": {
      "text/plain": [
       "['1789-Washington.txt',\n",
       " '1793-Washington.txt',\n",
       " '1797-Adams.txt',\n",
       " '1801-Jefferson.txt',\n",
       " '1805-Jefferson.txt',\n",
       " '1809-Madison.txt',\n",
       " '1813-Madison.txt',\n",
       " '1817-Monroe.txt',\n",
       " '1821-Monroe.txt',\n",
       " '1825-Adams.txt',\n",
       " '1829-Jackson.txt',\n",
       " '1833-Jackson.txt',\n",
       " '1837-VanBuren.txt',\n",
       " '1841-Harrison.txt',\n",
       " '1845-Polk.txt',\n",
       " '1849-Taylor.txt',\n",
       " '1853-Pierce.txt',\n",
       " '1857-Buchanan.txt',\n",
       " '1861-Lincoln.txt',\n",
       " '1865-Lincoln.txt',\n",
       " '1869-Grant.txt',\n",
       " '1873-Grant.txt',\n",
       " '1877-Hayes.txt',\n",
       " '1881-Garfield.txt',\n",
       " '1885-Cleveland.txt',\n",
       " '1889-Harrison.txt',\n",
       " '1893-Cleveland.txt',\n",
       " '1897-McKinley.txt',\n",
       " '1901-McKinley.txt',\n",
       " '1905-Roosevelt.txt',\n",
       " '1909-Taft.txt',\n",
       " '1913-Wilson.txt',\n",
       " '1917-Wilson.txt',\n",
       " '1921-Harding.txt',\n",
       " '1925-Coolidge.txt',\n",
       " '1929-Hoover.txt',\n",
       " '1933-Roosevelt.txt',\n",
       " '1937-Roosevelt.txt',\n",
       " '1941-Roosevelt.txt',\n",
       " '1945-Roosevelt.txt',\n",
       " '1949-Truman.txt',\n",
       " '1953-Eisenhower.txt',\n",
       " '1957-Eisenhower.txt',\n",
       " '1961-Kennedy.txt',\n",
       " '1965-Johnson.txt',\n",
       " '1969-Nixon.txt',\n",
       " '1973-Nixon.txt',\n",
       " '1977-Carter.txt',\n",
       " '1981-Reagan.txt',\n",
       " '1985-Reagan.txt',\n",
       " '1989-Bush.txt',\n",
       " '1993-Clinton.txt',\n",
       " '1997-Clinton.txt',\n",
       " '2001-Bush.txt',\n",
       " '2005-Bush.txt',\n",
       " '2009-Obama.txt']"
      ]
     },
     "execution_count": 30,
     "metadata": {},
     "output_type": "execute_result"
    }
   ],
   "source": [
    "import nltk\n",
    "files=nltk.corpus.inaugural.fileids()\n",
    "import string\n",
    "exclude = set(string.punctuation)\n",
    "files"
   ]
  },
  {
   "cell_type": "code",
   "execution_count": 31,
   "metadata": {
    "collapsed": false
   },
   "outputs": [],
   "source": [
    "president={}\n",
    "fileP=[]\n",
    "for f in files:\n",
    "    f=f[5:-4]\n",
    "    fileP.append(f)\n",
    "fileS=set(fileP) #Set only have the presidents' name"
   ]
  },
  {
   "cell_type": "code",
   "execution_count": 34,
   "metadata": {
    "collapsed": false
   },
   "outputs": [],
   "source": [
    "finalList={}\n",
    "for f in fileS:\n",
    "    finalList[f]=0\n",
    "for f in fileS:\n",
    "    wlist=[] # Words a president used all together\n",
    "    for fi in files:\n",
    "        if f in fi:\n",
    "            words=nltk.corpus.inaugural.words(fi)\n",
    "            for w in words:\n",
    "                if w not in exclude: # Remove the punctuation\n",
    "                    wlist.append(w)\n",
    "    finalList[f]=len(set(wlist))"
   ]
  },
  {
   "cell_type": "code",
   "execution_count": 35,
   "metadata": {
    "collapsed": false
   },
   "outputs": [
    {
     "name": "stdout",
     "output_type": "stream",
     "text": [
      "Taylor\n",
      "494\n",
      "Lincoln\n",
      "1253\n",
      "Taft\n",
      "1432\n",
      "Pierce\n",
      "1161\n",
      "Roosevelt\n",
      "1695\n",
      "Jefferson\n",
      "1254\n",
      "Kennedy\n",
      "562\n",
      "Cleveland\n",
      "1213\n",
      "Wilson\n",
      "987\n",
      "Grant\n",
      "848\n",
      "Jackson\n",
      "841\n",
      "Carter\n",
      "520\n",
      "Hoover\n",
      "1082\n",
      "Johnson\n",
      "563\n",
      "VanBuren\n",
      "1305\n",
      "Buchanan\n",
      "939\n",
      "Garfield\n",
      "1014\n",
      "Obama\n",
      "930\n",
      "Harding\n",
      "1163\n",
      "Eisenhower\n",
      "1241\n",
      "Adams\n",
      "1494\n",
      "Harrison\n",
      "2652\n",
      "Nixon\n",
      "1029\n",
      "Truman\n",
      "777\n",
      "Reagan\n",
      "1444\n",
      "McKinley\n",
      "1672\n",
      "Hayes\n",
      "827\n",
      "Washington\n",
      "655\n",
      "Coolidge\n",
      "1217\n",
      "Polk\n",
      "1326\n",
      "Madison\n",
      "893\n",
      "Monroe\n",
      "1772\n",
      "Clinton\n",
      "1130\n",
      "Bush\n",
      "1570\n"
     ]
    }
   ],
   "source": [
    "for f in finalList:\n",
    "    print(f)\n",
    "    print(finalList[f])"
   ]
  },
  {
   "cell_type": "code",
   "execution_count": null,
   "metadata": {
    "collapsed": true
   },
   "outputs": [],
   "source": []
  }
 ],
 "metadata": {
  "anaconda-cloud": {},
  "kernelspec": {
   "display_name": "Python [default]",
   "language": "python",
   "name": "python3"
  },
  "language_info": {
   "codemirror_mode": {
    "name": "ipython",
    "version": 3
   },
   "file_extension": ".py",
   "mimetype": "text/x-python",
   "name": "python",
   "nbconvert_exporter": "python",
   "pygments_lexer": "ipython3",
   "version": "3.5.2"
  }
 },
 "nbformat": 4,
 "nbformat_minor": 1
}
