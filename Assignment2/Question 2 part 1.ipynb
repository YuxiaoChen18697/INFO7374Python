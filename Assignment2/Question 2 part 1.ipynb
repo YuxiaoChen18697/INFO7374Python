{
 "cells": [
  {
   "cell_type": "code",
   "execution_count": 5,
   "metadata": {
    "collapsed": true
   },
   "outputs": [],
   "source": [
    "import glob\n",
    "import json\n",
    "\n",
    "files = glob.glob('Data/*.json') # Get all files"
   ]
  },
  {
   "cell_type": "code",
   "execution_count": 10,
   "metadata": {
    "collapsed": false
   },
   "outputs": [],
   "source": [
    "import os\n",
    "import shutil\n",
    "try:\n",
    "    os.mkdir('Processed Data') # Create the main folder\n",
    "except:\n",
    "    pass\n",
    "\n",
    "for f in files:\n",
    "    with open(f, 'r', encoding='utf-8', errors='ignore') as file:\n",
    "        data = json.load(file) # Get the data\n",
    "        path = 'Processed Data/'+data['term']+'/'+data['location']['country']+'/'+data['location']['city']+'/'\n",
    "        # create directory and copy\n",
    "        if not os.path.exists(path):\n",
    "            os.makedirs(path)\n",
    "        shutil.copy(f, path)"
   ]
  },
  {
   "cell_type": "code",
   "execution_count": null,
   "metadata": {
    "collapsed": true
   },
   "outputs": [],
   "source": []
  }
 ],
 "metadata": {
  "anaconda-cloud": {},
  "kernelspec": {
   "display_name": "Python [default]",
   "language": "python",
   "name": "python3"
  },
  "language_info": {
   "codemirror_mode": {
    "name": "ipython",
    "version": 3
   },
   "file_extension": ".py",
   "mimetype": "text/x-python",
   "name": "python",
   "nbconvert_exporter": "python",
   "pygments_lexer": "ipython3",
   "version": "3.5.2"
  }
 },
 "nbformat": 4,
 "nbformat_minor": 1
}
