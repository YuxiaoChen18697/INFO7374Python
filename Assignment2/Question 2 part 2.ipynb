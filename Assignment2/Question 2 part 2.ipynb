{
 "cells": [
  {
   "cell_type": "code",
   "execution_count": 9,
   "metadata": {
    "collapsed": false
   },
   "outputs": [],
   "source": [
    "import glob\n",
    "import json\n",
    "import csv\n",
    "\n",
    "files = glob.glob('Data/*') # Get all files"
   ]
  },
  {
   "cell_type": "code",
   "execution_count": 14,
   "metadata": {
    "collapsed": false
   },
   "outputs": [],
   "source": [
    "with open('mycsv.csv','w') as f:\n",
    "    wr = csv.writer(f) # Create writer\n",
    "    wr.writerow([\"Name of restaurant\",\"City\",\"Country Code\",\"Day of week\",\"Start Time\",\"End Time\"]) # Header\n",
    "    for f in files:\n",
    "        with open(f, 'r', encoding='utf-8', errors='ignore') as file:\n",
    "            data = json.load(file) # Get data\n",
    "            if data['term'] == 'restaurants' and 'hours' in data: # Get all restaurants\n",
    "                days = data['hours'][0]['open'] # Find the days\n",
    "                for day in days:\n",
    "                    wr.writerow([data['id'],data['location']['city'],data['location']['country'],day['day'],day['start'],day['end']])"
   ]
  },
  {
   "cell_type": "code",
   "execution_count": null,
   "metadata": {
    "collapsed": true
   },
   "outputs": [],
   "source": []
  }
 ],
 "metadata": {
  "anaconda-cloud": {},
  "kernelspec": {
   "display_name": "Python [default]",
   "language": "python",
   "name": "python3"
  },
  "language_info": {
   "codemirror_mode": {
    "name": "ipython",
    "version": 3
   },
   "file_extension": ".py",
   "mimetype": "text/x-python",
   "name": "python",
   "nbconvert_exporter": "python",
   "pygments_lexer": "ipython3",
   "version": "3.5.2"
  }
 },
 "nbformat": 4,
 "nbformat_minor": 1
}
