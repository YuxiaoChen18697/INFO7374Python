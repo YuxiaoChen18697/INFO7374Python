{
 "cells": [
  {
   "cell_type": "markdown",
   "metadata": {},
   "source": [
    "Question 1"
   ]
  },
  {
   "cell_type": "code",
   "execution_count": 173,
   "metadata": {
    "collapsed": true
   },
   "outputs": [],
   "source": [
    "import glob"
   ]
  },
  {
   "cell_type": "code",
   "execution_count": 174,
   "metadata": {
    "collapsed": true
   },
   "outputs": [],
   "source": [
    "totalWords=[] # All words in list\n",
    "total = 0 # Total number of words"
   ]
  },
  {
   "cell_type": "code",
   "execution_count": 175,
   "metadata": {
    "collapsed": false
   },
   "outputs": [],
   "source": [
    "from collections import Counter\n",
    "def getFre(wordList):\n",
    "    counts = Counter(wordList) # Get words frequency\n",
    "    return counts"
   ]
  },
  {
   "cell_type": "code",
   "execution_count": 176,
   "metadata": {
    "collapsed": false
   },
   "outputs": [],
   "source": [
    "import string\n",
    "files = glob.glob('gutenberg/*') # Get all files\n",
    "for f in files:\n",
    "    with open(f,encoding='utf-8', errors='ignore') as file:\n",
    "        for word in map(lambda w:w.lower(),file.read().split()): # Split to words and make lower\n",
    "            totalWords.append(word.strip(string.punctuation)) # Remove all punctuation\n",
    "            total+=1\n",
    "freq = getFre(totalWords)"
   ]
  },
  {
   "cell_type": "code",
   "execution_count": 177,
   "metadata": {
    "collapsed": false
   },
   "outputs": [],
   "source": [
    "import csv\n",
    "rank = 1\n",
    "with open('Zipf.csv','w') as f:\n",
    "    wr = csv.writer(f)\n",
    "    wr.writerow(['Word','Rank','Freqency']) # Header\n",
    "    for e,f in freq.most_common():\n",
    "        wr.writerow([e,rank,f/total])\n",
    "        rank+=1"
   ]
  },
  {
   "cell_type": "code",
   "execution_count": null,
   "metadata": {
    "collapsed": true
   },
   "outputs": [],
   "source": []
  }
 ],
 "metadata": {
  "anaconda-cloud": {},
  "kernelspec": {
   "display_name": "Python [default]",
   "language": "python",
   "name": "python3"
  },
  "language_info": {
   "codemirror_mode": {
    "name": "ipython",
    "version": 3
   },
   "file_extension": ".py",
   "mimetype": "text/x-python",
   "name": "python",
   "nbconvert_exporter": "python",
   "pygments_lexer": "ipython3",
   "version": "3.5.2"
  }
 },
 "nbformat": 4,
 "nbformat_minor": 1
}
